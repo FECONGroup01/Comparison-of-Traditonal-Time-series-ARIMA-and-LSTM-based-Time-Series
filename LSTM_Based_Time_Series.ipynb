{
  "nbformat": 4,
  "nbformat_minor": 0,
  "metadata": {
    "kernelspec": {
      "display_name": "Python 3",
      "language": "python",
      "name": "python3"
    },
    "language_info": {
      "codemirror_mode": {
        "name": "ipython",
        "version": 3
      },
      "file_extension": ".py",
      "mimetype": "text/x-python",
      "name": "python",
      "nbconvert_exporter": "python",
      "pygments_lexer": "ipython3",
      "version": "3.7.6"
    },
    "colab": {
      "name": "LSTM_Based_Time_Series.ipynb",
      "provenance": [],
      "collapsed_sections": [],
      "include_colab_link": true
    }
  },
  "cells": [
    {
      "cell_type": "markdown",
      "metadata": {
        "id": "view-in-github",
        "colab_type": "text"
      },
      "source": [
        "<a href=\"https://colab.research.google.com/github/FECONGroup01/FECON-Project/blob/main/LSTM_Based_Time_Series.ipynb\" target=\"_parent\"><img src=\"https://colab.research.google.com/assets/colab-badge.svg\" alt=\"Open In Colab\"/></a>"
      ]
    },
    {
      "cell_type": "code",
      "metadata": {
        "id": "fuiAQLRJOJp1"
      },
      "source": [
        "import math\n",
        "import matplotlib.pyplot as plt\n",
        "import keras\n",
        "import pandas as pd\n",
        "import numpy as np\n",
        "from keras.models import Sequential\n",
        "from keras.layers import Dense\n",
        "from keras.layers import LSTM\n",
        "from keras.layers import Dropout\n",
        "from keras.layers import *\n",
        "from sklearn.preprocessing import MinMaxScaler\n",
        "from sklearn.metrics import mean_squared_error\n",
        "from sklearn.metrics import mean_absolute_error\n",
        "#from sklearn.metrics import mean_absolute_percentage_error\n",
        "from sklearn.model_selection import train_test_split\n",
        "from keras.callbacks import EarlyStopping"
      ],
      "execution_count": 3,
      "outputs": []
    },
    {
      "cell_type": "code",
      "metadata": {
        "colab": {
          "base_uri": "https://localhost:8080/",
          "height": 221
        },
        "id": "Q2M9vkC7OJqG",
        "outputId": "1fd9758b-4ef3-4d2e-8c95-65a0b3fd8c32"
      },
      "source": [
        "df=pd.read_csv(\"TATAMOTORS.csv\")\n",
        "df['Date'] = pd.to_datetime(df['Date'])\n",
        "print('Number of rows and columns:', df.shape)\n",
        "df.head(5)"
      ],
      "execution_count": 4,
      "outputs": [
        {
          "output_type": "stream",
          "text": [
            "Number of rows and columns: (246, 7)\n"
          ],
          "name": "stdout"
        },
        {
          "output_type": "execute_result",
          "data": {
            "text/html": [
              "<div>\n",
              "<style scoped>\n",
              "    .dataframe tbody tr th:only-of-type {\n",
              "        vertical-align: middle;\n",
              "    }\n",
              "\n",
              "    .dataframe tbody tr th {\n",
              "        vertical-align: top;\n",
              "    }\n",
              "\n",
              "    .dataframe thead th {\n",
              "        text-align: right;\n",
              "    }\n",
              "</style>\n",
              "<table border=\"1\" class=\"dataframe\">\n",
              "  <thead>\n",
              "    <tr style=\"text-align: right;\">\n",
              "      <th></th>\n",
              "      <th>Date</th>\n",
              "      <th>Open</th>\n",
              "      <th>High</th>\n",
              "      <th>Low</th>\n",
              "      <th>Close</th>\n",
              "      <th>Adj Close</th>\n",
              "      <th>Volume</th>\n",
              "    </tr>\n",
              "  </thead>\n",
              "  <tbody>\n",
              "    <tr>\n",
              "      <th>0</th>\n",
              "      <td>2018-01-01</td>\n",
              "      <td>430.950012</td>\n",
              "      <td>436.399994</td>\n",
              "      <td>422.250000</td>\n",
              "      <td>424.450012</td>\n",
              "      <td>424.450012</td>\n",
              "      <td>6807536</td>\n",
              "    </tr>\n",
              "    <tr>\n",
              "      <th>1</th>\n",
              "      <td>2018-01-02</td>\n",
              "      <td>428.850006</td>\n",
              "      <td>440.850006</td>\n",
              "      <td>422.000000</td>\n",
              "      <td>439.299988</td>\n",
              "      <td>439.299988</td>\n",
              "      <td>15331261</td>\n",
              "    </tr>\n",
              "    <tr>\n",
              "      <th>2</th>\n",
              "      <td>2018-01-03</td>\n",
              "      <td>440.399994</td>\n",
              "      <td>441.399994</td>\n",
              "      <td>431.950012</td>\n",
              "      <td>433.899994</td>\n",
              "      <td>433.899994</td>\n",
              "      <td>9794953</td>\n",
              "    </tr>\n",
              "    <tr>\n",
              "      <th>3</th>\n",
              "      <td>2018-01-04</td>\n",
              "      <td>430.000000</td>\n",
              "      <td>433.299988</td>\n",
              "      <td>425.750000</td>\n",
              "      <td>429.950012</td>\n",
              "      <td>429.950012</td>\n",
              "      <td>8395377</td>\n",
              "    </tr>\n",
              "    <tr>\n",
              "      <th>4</th>\n",
              "      <td>2018-01-05</td>\n",
              "      <td>431.250000</td>\n",
              "      <td>436.350006</td>\n",
              "      <td>429.799988</td>\n",
              "      <td>431.600006</td>\n",
              "      <td>431.600006</td>\n",
              "      <td>7021611</td>\n",
              "    </tr>\n",
              "  </tbody>\n",
              "</table>\n",
              "</div>"
            ],
            "text/plain": [
              "        Date        Open        High  ...       Close   Adj Close    Volume\n",
              "0 2018-01-01  430.950012  436.399994  ...  424.450012  424.450012   6807536\n",
              "1 2018-01-02  428.850006  440.850006  ...  439.299988  439.299988  15331261\n",
              "2 2018-01-03  440.399994  441.399994  ...  433.899994  433.899994   9794953\n",
              "3 2018-01-04  430.000000  433.299988  ...  429.950012  429.950012   8395377\n",
              "4 2018-01-05  431.250000  436.350006  ...  431.600006  431.600006   7021611\n",
              "\n",
              "[5 rows x 7 columns]"
            ]
          },
          "metadata": {
            "tags": []
          },
          "execution_count": 4
        }
      ]
    },
    {
      "cell_type": "code",
      "metadata": {
        "colab": {
          "base_uri": "https://localhost:8080/",
          "height": 404
        },
        "id": "A2sJMBtQOJqK",
        "outputId": "9b9fcc0d-2c81-483f-a2ff-396fc0a03493"
      },
      "source": [
        "#Visualization of the data\n",
        "plt.figure(figsize=(10,6))\n",
        "plt.grid(True)\n",
        "plt.xlabel('Dates')\n",
        "plt.ylabel('Close Price')\n",
        "plt.plot(df['Close'])\n",
        "plt.title('Tata Motors 1 yr Closing Price')\n",
        "plt.show()"
      ],
      "execution_count": 5,
      "outputs": [
        {
          "output_type": "display_data",
          "data": {
            "image/png": "[encoded data removed]",
            "text/plain": [
              "<Figure size 720x432 with 1 Axes>"
            ]
          },
          "metadata": {
            "tags": [],
            "needs_background": "light"
          }
        }
      ]
    },
    {
      "cell_type": "code",
      "metadata": {
        "id": "wGqbDoZkpn6D"
      },
      "source": [
        "df1=df.reset_index()['Close']"
      ],
      "execution_count": 6,
      "outputs": []
    },
    {
      "cell_type": "code",
      "metadata": {
        "id": "Fh1F5zRROJqM"
      },
      "source": [
        "from sklearn.preprocessing import MinMaxScaler\n",
        "scaler=MinMaxScaler(feature_range=(0,1))\n",
        "df1=scaler.fit_transform(np.array(df1).reshape(-1,1))"
      ],
      "execution_count": 7,
      "outputs": []
    },
    {
      "cell_type": "code",
      "metadata": {
        "colab": {
          "base_uri": "https://localhost:8080/"
        },
        "id": "TgRWDiF3OJqN",
        "outputId": "dff05725-1a40-4c70-ea06-d4254e658d9a"
      },
      "source": [
        "print(df1)"
      ],
      "execution_count": 8,
      "outputs": [
        {
          "output_type": "stream",
          "text": [
            "[[0.94737783]\n",
            " [1.        ]\n",
            " [0.98086466]\n",
            " [0.96686755]\n",
            " [0.97271445]\n",
            " [0.97962438]\n",
            " [0.99379872]\n",
            " [0.97873848]\n",
            " [0.98387672]\n",
            " [0.99220417]\n",
            " [0.97537214]\n",
            " [0.93834162]\n",
            " [0.94206245]\n",
            " [0.9278881 ]\n",
            " [0.92469879]\n",
            " [0.93834162]\n",
            " [0.92452165]\n",
            " [0.87349403]\n",
            " [0.86180013]\n",
            " [0.85807941]\n",
            " [0.84603124]\n",
            " [0.85896531]\n",
            " [0.83823531]\n",
            " [0.80315382]\n",
            " [0.84585399]\n",
            " [0.7737421 ]\n",
            " [0.78206944]\n",
            " [0.77161592]\n",
            " [0.75000003]\n",
            " [0.76080792]\n",
            " [0.7787031 ]\n",
            " [0.77498227]\n",
            " [0.7570872 ]\n",
            " [0.75000003]\n",
            " [0.75194896]\n",
            " [0.73476265]\n",
            " [0.71367827]\n",
            " [0.71970241]\n",
            " [0.76169382]\n",
            " [0.76346561]\n",
            " [0.75407513]\n",
            " [0.7570872 ]\n",
            " [0.69082209]\n",
            " [0.67115523]\n",
            " [0.67576185]\n",
            " [0.66637137]\n",
            " [0.6534373 ]\n",
            " [0.69277113]\n",
            " [0.69472006]\n",
            " [0.69790926]\n",
            " [0.69454292]\n",
            " [0.64723602]\n",
            " [0.63288454]\n",
            " [0.64386957]\n",
            " [0.62632888]\n",
            " [0.64174351]\n",
            " [0.61569813]\n",
            " [0.62101351]\n",
            " [0.61676116]\n",
            " [0.60152378]\n",
            " [0.64510985]\n",
            " [0.65910706]\n",
            " [0.70340189]\n",
            " [0.72678958]\n",
            " [0.73352237]\n",
            " [0.71296951]\n",
            " [0.69507444]\n",
            " [0.70411054]\n",
            " [0.71332389]\n",
            " [0.70854002]\n",
            " [0.64510985]\n",
            " [0.63554223]\n",
            " [0.62969523]\n",
            " [0.6277463 ]\n",
            " [0.63394757]\n",
            " [0.62703754]\n",
            " [0.61817857]\n",
            " [0.60772506]\n",
            " [0.61357195]\n",
            " [0.63713678]\n",
            " [0.64953933]\n",
            " [0.63412471]\n",
            " [0.62508861]\n",
            " [0.62827781]\n",
            " [0.6309355 ]\n",
            " [0.62030475]\n",
            " [0.65503196]\n",
            " [0.62544299]\n",
            " [0.61552088]\n",
            " [0.59000712]\n",
            " [0.54216871]\n",
            " [0.54270023]\n",
            " [0.55917788]\n",
            " [0.52267898]\n",
            " [0.49184974]\n",
            " [0.53366412]\n",
            " [0.5398654 ]\n",
            " [0.46615874]\n",
            " [0.48564846]\n",
            " [0.49326715]\n",
            " [0.48742026]\n",
            " [0.46704464]\n",
            " [0.44436571]\n",
            " [0.4610206 ]\n",
            " [0.45907157]\n",
            " [0.45304753]\n",
            " [0.49096384]\n",
            " [0.52551381]\n",
            " [0.54163719]\n",
            " [0.54092843]\n",
            " [0.5340184 ]\n",
            " [0.53614457]\n",
            " [0.5272856 ]\n",
            " [0.51683209]\n",
            " [0.53756198]\n",
            " [0.52427353]\n",
            " [0.52622257]\n",
            " [0.53118357]\n",
            " [0.53472716]\n",
            " [0.46881643]\n",
            " [0.42434446]\n",
            " [0.4037916 ]\n",
            " [0.37650605]\n",
            " [0.39759032]\n",
            " [0.38837708]\n",
            " [0.39812195]\n",
            " [0.38961725]\n",
            " [0.37012753]\n",
            " [0.40308295]\n",
            " [0.41247343]\n",
            " [0.41938346]\n",
            " [0.39227494]\n",
            " [0.38625091]\n",
            " [0.37739194]\n",
            " [0.3366407 ]\n",
            " [0.3573707 ]\n",
            " [0.33575481]\n",
            " [0.33805812]\n",
            " [0.34124732]\n",
            " [0.36020553]\n",
            " [0.36038267]\n",
            " [0.35701632]\n",
            " [0.35843374]\n",
            " [0.39351522]\n",
            " [0.39121191]\n",
            " [0.37916374]\n",
            " [0.38253008]\n",
            " [0.36764708]\n",
            " [0.3591425 ]\n",
            " [0.34355068]\n",
            " [0.33486891]\n",
            " [0.3474486 ]\n",
            " [0.35701632]\n",
            " [0.32955353]\n",
            " [0.32459248]\n",
            " [0.32494686]\n",
            " [0.33380582]\n",
            " [0.35843374]\n",
            " [0.40042526]\n",
            " [0.39581853]\n",
            " [0.35364987]\n",
            " [0.34868887]\n",
            " [0.36038267]\n",
            " [0.36463501]\n",
            " [0.37065915]\n",
            " [0.3623317 ]\n",
            " [0.39121191]\n",
            " [0.3880227 ]\n",
            " [0.37154505]\n",
            " [0.38766832]\n",
            " [0.39989374]\n",
            " [0.42629339]\n",
            " [0.42026936]\n",
            " [0.39050315]\n",
            " [0.3731396 ]\n",
            " [0.3880227 ]\n",
            " [0.36552091]\n",
            " [0.33451453]\n",
            " [0.3384125 ]\n",
            " [0.33043943]\n",
            " [0.29447199]\n",
            " [0.29659817]\n",
            " [0.27019846]\n",
            " [0.24149539]\n",
            " [0.23600282]\n",
            " [0.25602411]\n",
            " [0.24982284]\n",
            " [0.23440821]\n",
            " [0.20960311]\n",
            " [0.19578315]\n",
            " [0.09656273]\n",
            " [0.11215449]\n",
            " [0.09160167]\n",
            " [0.09443655]\n",
            " [0.09656273]\n",
            " [0.10187811]\n",
            " [0.08097092]\n",
            " [0.06236709]\n",
            " [0.04836993]\n",
            " [0.04801555]\n",
            " [0.04801555]\n",
            " [0.02923459]\n",
            " [0.04039686]\n",
            " [0.06467045]\n",
            " [0.07140324]\n",
            " [0.0779589 ]\n",
            " [0.07919912]\n",
            " [0.11764706]\n",
            " [0.11587526]\n",
            " [0.12810062]\n",
            " [0.13377038]\n",
            " [0.1351878 ]\n",
            " [0.10258681]\n",
            " [0.07937631]\n",
            " [0.06980864]\n",
            " [0.08185681]\n",
            " [0.08079373]\n",
            " [0.09744862]\n",
            " [0.09443655]\n",
            " [0.09585397]\n",
            " [0.09018426]\n",
            " [0.08734938]\n",
            " [0.0813253 ]\n",
            " [0.06148119]\n",
            " [0.07140324]\n",
            " [0.05262223]\n",
            " [0.06502478]\n",
            " [0.06608786]\n",
            " [0.04287736]\n",
            " [0.01966686]\n",
            " [0.01878097]\n",
            " [0.        ]\n",
            " [0.00354359]\n",
            " [0.0248051 ]\n",
            " [0.03454997]\n",
            " [0.03490429]\n",
            " [0.0597094 ]\n",
            " [0.06254428]\n",
            " [0.05953221]\n",
            " [0.06839117]\n",
            " [0.06785966]\n",
            " [0.05457121]\n",
            " [0.04890145]\n",
            " [0.03951097]\n",
            " [0.04872431]\n",
            " [0.05527991]]\n"
          ],
          "name": "stdout"
        }
      ]
    },
    {
      "cell_type": "code",
      "metadata": {
        "id": "yUo2pE1ZOJqO"
      },
      "source": [
        "##splitting dataset into train and test split\n",
        "training_size=int(len(df1)*0.8)\n",
        "test_size=len(df1)-training_size\n",
        "train_data,test_data=df1[0:training_size,:],df1[training_size:len(df1),:1]"
      ],
      "execution_count": 9,
      "outputs": []
    },
    {
      "cell_type": "code",
      "metadata": {
        "id": "xDADDveDOJqP",
        "colab": {
          "base_uri": "https://localhost:8080/"
        },
        "outputId": "88a4c249-93a4-4349-c0ea-a32bf2904613"
      },
      "source": [
        "training_size,test_size"
      ],
      "execution_count": 10,
      "outputs": [
        {
          "output_type": "execute_result",
          "data": {
            "text/plain": [
              "(196, 50)"
            ]
          },
          "metadata": {
            "tags": []
          },
          "execution_count": 10
        }
      ]
    },
    {
      "cell_type": "code",
      "metadata": {
        "id": "fEC9nIW6cg9I"
      },
      "source": [
        "def create_dataset(dataset, time_step=1):\n",
        "\tdataX, dataY = [], []\n",
        "\tfor i in range(len(dataset)-time_step-1):\n",
        "\t\ta = dataset[i:(i+time_step), 0]   ###i=0, 0,1,2,3-----99   100 \n",
        "\t\tdataX.append(a)\n",
        "\t\tdataY.append(dataset[i + time_step, 0])\n",
        "\treturn numpy.array(dataX), numpy.array(dataY)"
      ],
      "execution_count": 11,
      "outputs": []
    },
    {
      "cell_type": "code",
      "metadata": {
        "id": "EJSFAIKGche9",
        "colab": {
          "base_uri": "https://localhost:8080/"
        },
        "outputId": "f92cf2f1-0528-4222-9191-fbc80a82aa68"
      },
      "source": [
        "# reshape into X=t,t+1,t+2,t+3 and Y=t+4\n",
        "import numpy\n",
        "time_step = 5\n",
        "X_train, y_train = create_dataset(train_data, time_step)\n",
        "X_test, ytest = create_dataset(test_data, time_step)"
      ],
      "execution_count": 29,
      "outputs": [
        {
          "output_type": "execute_result",
          "data": {
            "text/plain": [
              "array([0.02923459, 0.04039686, 0.06467045, 0.07140324, 0.0779589 ,\n",
              "       0.07919912, 0.11764706, 0.11587526, 0.12810062, 0.13377038,\n",
              "       0.1351878 , 0.10258681, 0.07937631, 0.06980864, 0.08185681,\n",
              "       0.08079373, 0.09744862, 0.09443655, 0.09585397, 0.09018426,\n",
              "       0.08734938, 0.0813253 , 0.06148119, 0.07140324, 0.05262223,\n",
              "       0.06502478, 0.06608786, 0.04287736, 0.01966686, 0.01878097,\n",
              "       0.        , 0.00354359, 0.0248051 , 0.03454997, 0.03490429,\n",
              "       0.0597094 , 0.06254428, 0.05953221, 0.06839117, 0.06785966,\n",
              "       0.05457121, 0.04890145, 0.03951097, 0.04872431])"
            ]
          },
          "metadata": {
            "tags": []
          },
          "execution_count": 29
        }
      ]
    },
    {
      "cell_type": "code",
      "metadata": {
        "colab": {
          "base_uri": "https://localhost:8080/"
        },
        "id": "sO1vAK3xch5v",
        "outputId": "c8f7aa70-91a9-4869-ca50-0116d9080a02"
      },
      "source": [
        "print(X_train.shape), print(y_train.shape)"
      ],
      "execution_count": 13,
      "outputs": [
        {
          "output_type": "stream",
          "text": [
            "(190, 5)\n",
            "(190,)\n"
          ],
          "name": "stdout"
        },
        {
          "output_type": "execute_result",
          "data": {
            "text/plain": [
              "(None, None)"
            ]
          },
          "metadata": {
            "tags": []
          },
          "execution_count": 13
        }
      ]
    },
    {
      "cell_type": "code",
      "metadata": {
        "colab": {
          "base_uri": "https://localhost:8080/"
        },
        "id": "c1JLQW3LciXF",
        "outputId": "857b7be9-c410-4a51-ba56-f7182592185a"
      },
      "source": [
        "print(X_test.shape), print(ytest.shape)"
      ],
      "execution_count": 14,
      "outputs": [
        {
          "output_type": "stream",
          "text": [
            "(44, 5)\n",
            "(44,)\n"
          ],
          "name": "stdout"
        },
        {
          "output_type": "execute_result",
          "data": {
            "text/plain": [
              "(None, None)"
            ]
          },
          "metadata": {
            "tags": []
          },
          "execution_count": 14
        }
      ]
    },
    {
      "cell_type": "code",
      "metadata": {
        "id": "EMa353tUci4u"
      },
      "source": [
        "X_train =X_train.reshape(X_train.shape[0],X_train.shape[1] , 1)\n",
        "X_test = X_test.reshape(X_test.shape[0],X_test.shape[1] , 1)"
      ],
      "execution_count": 15,
      "outputs": []
    },
    {
      "cell_type": "code",
      "metadata": {
        "id": "VaxFmfXIdfgd"
      },
      "source": [
        "model=Sequential()\n",
        "model.add(LSTM(50,return_sequences=True,input_shape=(5,1)))\n",
        "model.add(LSTM(50,return_sequences=True))\n",
        "model.add(LSTM(50))\n",
        "model.add(Dense(1))\n",
        "model.compile(loss='mean_squared_error',optimizer='adam')"
      ],
      "execution_count": 16,
      "outputs": []
    },
    {
      "cell_type": "code",
      "metadata": {
        "colab": {
          "base_uri": "https://localhost:8080/"
        },
        "id": "fkZVo9YScjaJ",
        "outputId": "98ad3801-0088-4fc7-89cb-cd5665ee4c98"
      },
      "source": [
        "model.summary()"
      ],
      "execution_count": 17,
      "outputs": [
        {
          "output_type": "stream",
          "text": [
            "Model: \"sequential\"\n",
            "_________________________________________________________________\n",
            "Layer (type)                 Output Shape              Param #   \n",
            "=================================================================\n",
            "lstm (LSTM)                  (None, 5, 50)             10400     \n",
            "_________________________________________________________________\n",
            "lstm_1 (LSTM)                (None, 5, 50)             20200     \n",
            "_________________________________________________________________\n",
            "lstm_2 (LSTM)                (None, 50)                20200     \n",
            "_________________________________________________________________\n",
            "dense (Dense)                (None, 1)                 51        \n",
            "=================================================================\n",
            "Total params: 50,851\n",
            "Trainable params: 50,851\n",
            "Non-trainable params: 0\n",
            "_________________________________________________________________\n"
          ],
          "name": "stdout"
        }
      ]
    },
    {
      "cell_type": "code",
      "metadata": {
        "colab": {
          "base_uri": "https://localhost:8080/"
        },
        "id": "VT7XOnLadVce",
        "outputId": "44f4d704-58a2-4bea-a94e-dd41f57f568c"
      },
      "source": [
        "model.fit(X_train,y_train,validation_data=(X_test,ytest),epochs=100,batch_size=64,verbose=1)\n"
      ],
      "execution_count": 18,
      "outputs": [
        {
          "output_type": "stream",
          "text": [
            "Epoch 1/100\n",
            "3/3 [==============================] - 5s 562ms/step - loss: 0.3128 - val_loss: 0.0021\n",
            "Epoch 2/100\n",
            "3/3 [==============================] - 0s 25ms/step - loss: 0.2623 - val_loss: 0.0010\n",
            "Epoch 3/100\n",
            "3/3 [==============================] - 0s 23ms/step - loss: 0.1866 - val_loss: 0.0050\n",
            "Epoch 4/100\n",
            "3/3 [==============================] - 0s 26ms/step - loss: 0.1033 - val_loss: 0.0209\n",
            "Epoch 5/100\n",
            "3/3 [==============================] - 0s 24ms/step - loss: 0.0380 - val_loss: 0.0624\n",
            "Epoch 6/100\n",
            "3/3 [==============================] - 0s 27ms/step - loss: 0.0155 - val_loss: 0.1136\n",
            "Epoch 7/100\n",
            "3/3 [==============================] - 0s 24ms/step - loss: 0.0459 - val_loss: 0.1023\n",
            "Epoch 8/100\n",
            "3/3 [==============================] - 0s 26ms/step - loss: 0.0272 - val_loss: 0.0696\n",
            "Epoch 9/100\n",
            "3/3 [==============================] - 0s 25ms/step - loss: 0.0115 - val_loss: 0.0483\n",
            "Epoch 10/100\n",
            "3/3 [==============================] - 0s 27ms/step - loss: 0.0155 - val_loss: 0.0397\n",
            "Epoch 11/100\n",
            "3/3 [==============================] - 0s 26ms/step - loss: 0.0204 - val_loss: 0.0399\n",
            "Epoch 12/100\n",
            "3/3 [==============================] - 0s 24ms/step - loss: 0.0164 - val_loss: 0.0454\n",
            "Epoch 13/100\n",
            "3/3 [==============================] - 0s 26ms/step - loss: 0.0125 - val_loss: 0.0541\n",
            "Epoch 14/100\n",
            "3/3 [==============================] - 0s 25ms/step - loss: 0.0096 - val_loss: 0.0601\n",
            "Epoch 15/100\n",
            "3/3 [==============================] - 0s 25ms/step - loss: 0.0124 - val_loss: 0.0588\n",
            "Epoch 16/100\n",
            "3/3 [==============================] - 0s 24ms/step - loss: 0.0108 - val_loss: 0.0507\n",
            "Epoch 17/100\n",
            "3/3 [==============================] - 0s 26ms/step - loss: 0.0086 - val_loss: 0.0415\n",
            "Epoch 18/100\n",
            "3/3 [==============================] - 0s 24ms/step - loss: 0.0079 - val_loss: 0.0353\n",
            "Epoch 19/100\n",
            "3/3 [==============================] - 0s 25ms/step - loss: 0.0075 - val_loss: 0.0320\n",
            "Epoch 20/100\n",
            "3/3 [==============================] - 0s 25ms/step - loss: 0.0071 - val_loss: 0.0313\n",
            "Epoch 21/100\n",
            "3/3 [==============================] - 0s 23ms/step - loss: 0.0056 - val_loss: 0.0309\n",
            "Epoch 22/100\n",
            "3/3 [==============================] - 0s 25ms/step - loss: 0.0055 - val_loss: 0.0287\n",
            "Epoch 23/100\n",
            "3/3 [==============================] - 0s 24ms/step - loss: 0.0048 - val_loss: 0.0249\n",
            "Epoch 24/100\n",
            "3/3 [==============================] - 0s 24ms/step - loss: 0.0042 - val_loss: 0.0209\n",
            "Epoch 25/100\n",
            "3/3 [==============================] - 0s 27ms/step - loss: 0.0039 - val_loss: 0.0177\n",
            "Epoch 26/100\n",
            "3/3 [==============================] - 0s 24ms/step - loss: 0.0035 - val_loss: 0.0157\n",
            "Epoch 27/100\n",
            "3/3 [==============================] - 0s 27ms/step - loss: 0.0027 - val_loss: 0.0146\n",
            "Epoch 28/100\n",
            "3/3 [==============================] - 0s 26ms/step - loss: 0.0028 - val_loss: 0.0130\n",
            "Epoch 29/100\n",
            "3/3 [==============================] - 0s 26ms/step - loss: 0.0025 - val_loss: 0.0111\n",
            "Epoch 30/100\n",
            "3/3 [==============================] - 0s 26ms/step - loss: 0.0024 - val_loss: 0.0094\n",
            "Epoch 31/100\n",
            "3/3 [==============================] - 0s 25ms/step - loss: 0.0021 - val_loss: 0.0083\n",
            "Epoch 32/100\n",
            "3/3 [==============================] - 0s 27ms/step - loss: 0.0021 - val_loss: 0.0076\n",
            "Epoch 33/100\n",
            "3/3 [==============================] - 0s 30ms/step - loss: 0.0022 - val_loss: 0.0069\n",
            "Epoch 34/100\n",
            "3/3 [==============================] - 0s 26ms/step - loss: 0.0022 - val_loss: 0.0063\n",
            "Epoch 35/100\n",
            "3/3 [==============================] - 0s 28ms/step - loss: 0.0020 - val_loss: 0.0057\n",
            "Epoch 36/100\n",
            "3/3 [==============================] - 0s 26ms/step - loss: 0.0019 - val_loss: 0.0053\n",
            "Epoch 37/100\n",
            "3/3 [==============================] - 0s 26ms/step - loss: 0.0022 - val_loss: 0.0052\n",
            "Epoch 38/100\n",
            "3/3 [==============================] - 0s 24ms/step - loss: 0.0019 - val_loss: 0.0051\n",
            "Epoch 39/100\n",
            "3/3 [==============================] - 0s 24ms/step - loss: 0.0020 - val_loss: 0.0050\n",
            "Epoch 40/100\n",
            "3/3 [==============================] - 0s 26ms/step - loss: 0.0021 - val_loss: 0.0048\n",
            "Epoch 41/100\n",
            "3/3 [==============================] - 0s 23ms/step - loss: 0.0019 - val_loss: 0.0048\n",
            "Epoch 42/100\n",
            "3/3 [==============================] - 0s 25ms/step - loss: 0.0020 - val_loss: 0.0049\n",
            "Epoch 43/100\n",
            "3/3 [==============================] - 0s 24ms/step - loss: 0.0020 - val_loss: 0.0049\n",
            "Epoch 44/100\n",
            "3/3 [==============================] - 0s 25ms/step - loss: 0.0021 - val_loss: 0.0050\n",
            "Epoch 45/100\n",
            "3/3 [==============================] - 0s 26ms/step - loss: 0.0017 - val_loss: 0.0049\n",
            "Epoch 46/100\n",
            "3/3 [==============================] - 0s 29ms/step - loss: 0.0019 - val_loss: 0.0051\n",
            "Epoch 47/100\n",
            "3/3 [==============================] - 0s 25ms/step - loss: 0.0020 - val_loss: 0.0051\n",
            "Epoch 48/100\n",
            "3/3 [==============================] - 0s 28ms/step - loss: 0.0017 - val_loss: 0.0051\n",
            "Epoch 49/100\n",
            "3/3 [==============================] - 0s 26ms/step - loss: 0.0019 - val_loss: 0.0050\n",
            "Epoch 50/100\n",
            "3/3 [==============================] - 0s 23ms/step - loss: 0.0018 - val_loss: 0.0049\n",
            "Epoch 51/100\n",
            "3/3 [==============================] - 0s 23ms/step - loss: 0.0019 - val_loss: 0.0050\n",
            "Epoch 52/100\n",
            "3/3 [==============================] - 0s 22ms/step - loss: 0.0019 - val_loss: 0.0050\n",
            "Epoch 53/100\n",
            "3/3 [==============================] - 0s 21ms/step - loss: 0.0021 - val_loss: 0.0048\n",
            "Epoch 54/100\n",
            "3/3 [==============================] - 0s 21ms/step - loss: 0.0018 - val_loss: 0.0049\n",
            "Epoch 55/100\n",
            "3/3 [==============================] - 0s 24ms/step - loss: 0.0018 - val_loss: 0.0048\n",
            "Epoch 56/100\n",
            "3/3 [==============================] - 0s 27ms/step - loss: 0.0018 - val_loss: 0.0047\n",
            "Epoch 57/100\n",
            "3/3 [==============================] - 0s 27ms/step - loss: 0.0020 - val_loss: 0.0046\n",
            "Epoch 58/100\n",
            "3/3 [==============================] - 0s 25ms/step - loss: 0.0018 - val_loss: 0.0045\n",
            "Epoch 59/100\n",
            "3/3 [==============================] - 0s 26ms/step - loss: 0.0019 - val_loss: 0.0045\n",
            "Epoch 60/100\n",
            "3/3 [==============================] - 0s 24ms/step - loss: 0.0021 - val_loss: 0.0044\n",
            "Epoch 61/100\n",
            "3/3 [==============================] - 0s 25ms/step - loss: 0.0019 - val_loss: 0.0043\n",
            "Epoch 62/100\n",
            "3/3 [==============================] - 0s 23ms/step - loss: 0.0020 - val_loss: 0.0044\n",
            "Epoch 63/100\n",
            "3/3 [==============================] - 0s 28ms/step - loss: 0.0020 - val_loss: 0.0042\n",
            "Epoch 64/100\n",
            "3/3 [==============================] - 0s 24ms/step - loss: 0.0019 - val_loss: 0.0040\n",
            "Epoch 65/100\n",
            "3/3 [==============================] - 0s 28ms/step - loss: 0.0020 - val_loss: 0.0041\n",
            "Epoch 66/100\n",
            "3/3 [==============================] - 0s 27ms/step - loss: 0.0017 - val_loss: 0.0042\n",
            "Epoch 67/100\n",
            "3/3 [==============================] - 0s 26ms/step - loss: 0.0019 - val_loss: 0.0041\n",
            "Epoch 68/100\n",
            "3/3 [==============================] - 0s 25ms/step - loss: 0.0021 - val_loss: 0.0039\n",
            "Epoch 69/100\n",
            "3/3 [==============================] - 0s 24ms/step - loss: 0.0019 - val_loss: 0.0040\n",
            "Epoch 70/100\n",
            "3/3 [==============================] - 0s 29ms/step - loss: 0.0021 - val_loss: 0.0039\n",
            "Epoch 71/100\n",
            "3/3 [==============================] - 0s 29ms/step - loss: 0.0018 - val_loss: 0.0037\n",
            "Epoch 72/100\n",
            "3/3 [==============================] - 0s 25ms/step - loss: 0.0020 - val_loss: 0.0036\n",
            "Epoch 73/100\n",
            "3/3 [==============================] - 0s 22ms/step - loss: 0.0018 - val_loss: 0.0038\n",
            "Epoch 74/100\n",
            "3/3 [==============================] - 0s 28ms/step - loss: 0.0018 - val_loss: 0.0038\n",
            "Epoch 75/100\n",
            "3/3 [==============================] - 0s 25ms/step - loss: 0.0018 - val_loss: 0.0036\n",
            "Epoch 76/100\n",
            "3/3 [==============================] - 0s 24ms/step - loss: 0.0018 - val_loss: 0.0035\n",
            "Epoch 77/100\n",
            "3/3 [==============================] - 0s 26ms/step - loss: 0.0019 - val_loss: 0.0036\n",
            "Epoch 78/100\n",
            "3/3 [==============================] - 0s 26ms/step - loss: 0.0019 - val_loss: 0.0035\n",
            "Epoch 79/100\n",
            "3/3 [==============================] - 0s 26ms/step - loss: 0.0020 - val_loss: 0.0034\n",
            "Epoch 80/100\n",
            "3/3 [==============================] - 0s 27ms/step - loss: 0.0020 - val_loss: 0.0033\n",
            "Epoch 81/100\n",
            "3/3 [==============================] - 0s 27ms/step - loss: 0.0017 - val_loss: 0.0033\n",
            "Epoch 82/100\n",
            "3/3 [==============================] - 0s 24ms/step - loss: 0.0018 - val_loss: 0.0033\n",
            "Epoch 83/100\n",
            "3/3 [==============================] - 0s 24ms/step - loss: 0.0019 - val_loss: 0.0031\n",
            "Epoch 84/100\n",
            "3/3 [==============================] - 0s 23ms/step - loss: 0.0017 - val_loss: 0.0031\n",
            "Epoch 85/100\n",
            "3/3 [==============================] - 0s 25ms/step - loss: 0.0019 - val_loss: 0.0031\n",
            "Epoch 86/100\n",
            "3/3 [==============================] - 0s 26ms/step - loss: 0.0018 - val_loss: 0.0030\n",
            "Epoch 87/100\n",
            "3/3 [==============================] - 0s 25ms/step - loss: 0.0017 - val_loss: 0.0030\n",
            "Epoch 88/100\n",
            "3/3 [==============================] - 0s 22ms/step - loss: 0.0019 - val_loss: 0.0029\n",
            "Epoch 89/100\n",
            "3/3 [==============================] - 0s 25ms/step - loss: 0.0019 - val_loss: 0.0029\n",
            "Epoch 90/100\n",
            "3/3 [==============================] - 0s 29ms/step - loss: 0.0019 - val_loss: 0.0029\n",
            "Epoch 91/100\n",
            "3/3 [==============================] - 0s 25ms/step - loss: 0.0018 - val_loss: 0.0028\n",
            "Epoch 92/100\n",
            "3/3 [==============================] - 0s 23ms/step - loss: 0.0017 - val_loss: 0.0028\n",
            "Epoch 93/100\n",
            "3/3 [==============================] - 0s 24ms/step - loss: 0.0017 - val_loss: 0.0027\n",
            "Epoch 94/100\n",
            "3/3 [==============================] - 0s 28ms/step - loss: 0.0018 - val_loss: 0.0027\n",
            "Epoch 95/100\n",
            "3/3 [==============================] - 0s 26ms/step - loss: 0.0018 - val_loss: 0.0026\n",
            "Epoch 96/100\n",
            "3/3 [==============================] - 0s 24ms/step - loss: 0.0018 - val_loss: 0.0026\n",
            "Epoch 97/100\n",
            "3/3 [==============================] - 0s 26ms/step - loss: 0.0018 - val_loss: 0.0026\n",
            "Epoch 98/100\n",
            "3/3 [==============================] - 0s 27ms/step - loss: 0.0018 - val_loss: 0.0024\n",
            "Epoch 99/100\n",
            "3/3 [==============================] - 0s 26ms/step - loss: 0.0017 - val_loss: 0.0024\n",
            "Epoch 100/100\n",
            "3/3 [==============================] - 0s 28ms/step - loss: 0.0017 - val_loss: 0.0025\n"
          ],
          "name": "stdout"
        },
        {
          "output_type": "execute_result",
          "data": {
            "text/plain": [
              "<tensorflow.python.keras.callbacks.History at 0x7f846cc88090>"
            ]
          },
          "metadata": {
            "tags": []
          },
          "execution_count": 18
        }
      ]
    },
    {
      "cell_type": "code",
      "metadata": {
        "id": "QHrQhv5jdVzK"
      },
      "source": [
        "import tensorflow as tf"
      ],
      "execution_count": 19,
      "outputs": []
    },
    {
      "cell_type": "code",
      "metadata": {
        "id": "5FjeKAiadWk3"
      },
      "source": [
        "train_predict=model.predict(X_train)\n",
        "test_predict=model.predict(X_test)"
      ],
      "execution_count": 20,
      "outputs": []
    },
    {
      "cell_type": "code",
      "metadata": {
        "id": "OOUN2ZM6dXCF"
      },
      "source": [
        "train_predict=scaler.inverse_transform(train_predict)\n",
        "test_predict=scaler.inverse_transform(test_predict)"
      ],
      "execution_count": 21,
      "outputs": []
    },
    {
      "cell_type": "code",
      "metadata": {
        "colab": {
          "base_uri": "https://localhost:8080/"
        },
        "id": "WikDH-XCdXdO",
        "outputId": "a9acd143-de12-449e-9b4a-d84713fd2596"
      },
      "source": [
        "train_predict"
      ],
      "execution_count": 22,
      "outputs": [
        {
          "output_type": "execute_result",
          "data": {
            "text/plain": [
              "array([[429.8339 ],\n",
              "       [433.43283],\n",
              "       [430.90646],\n",
              "       [430.55594],\n",
              "       [432.1757 ],\n",
              "       [433.53323],\n",
              "       [434.16656],\n",
              "       [432.40164],\n",
              "       [431.4942 ],\n",
              "       [428.74435],\n",
              "       [423.4594 ],\n",
              "       [418.96982],\n",
              "       [418.26416],\n",
              "       [416.12048],\n",
              "       [414.25586],\n",
              "       [411.13913],\n",
              "       [404.34467],\n",
              "       [397.36093],\n",
              "       [395.23944],\n",
              "       [393.42636],\n",
              "       [391.38116],\n",
              "       [389.48264],\n",
              "       [384.47742],\n",
              "       [380.22968],\n",
              "       [378.63956],\n",
              "       [370.41632],\n",
              "       [369.7765 ],\n",
              "       [368.02844],\n",
              "       [367.29703],\n",
              "       [369.04257],\n",
              "       [369.40408],\n",
              "       [366.95233],\n",
              "       [363.72778],\n",
              "       [361.52673],\n",
              "       [359.83533],\n",
              "       [358.0187 ],\n",
              "       [358.6233 ],\n",
              "       [362.5696 ],\n",
              "       [365.90457],\n",
              "       [363.04126],\n",
              "       [357.8959 ],\n",
              "       [351.65936],\n",
              "       [342.87042],\n",
              "       [340.72922],\n",
              "       [341.0185 ],\n",
              "       [341.30872],\n",
              "       [343.33264],\n",
              "       [347.0985 ],\n",
              "       [345.64566],\n",
              "       [342.69397],\n",
              "       [337.8167 ],\n",
              "       [331.9764 ],\n",
              "       [330.56442],\n",
              "       [330.37854],\n",
              "       [328.46686],\n",
              "       [327.93655],\n",
              "       [325.49002],\n",
              "       [326.41812],\n",
              "       [328.18304],\n",
              "       [332.6173 ],\n",
              "       [341.63583],\n",
              "       [348.01215],\n",
              "       [354.0944 ],\n",
              "       [355.47757],\n",
              "       [353.88757],\n",
              "       [351.00095],\n",
              "       [349.41812],\n",
              "       [348.6551 ],\n",
              "       [345.24103],\n",
              "       [338.81177],\n",
              "       [331.12518],\n",
              "       [329.66727],\n",
              "       [328.9194 ],\n",
              "       [328.4163 ],\n",
              "       [327.74423],\n",
              "       [326.21628],\n",
              "       [325.69806],\n",
              "       [326.60767],\n",
              "       [329.19116],\n",
              "       [331.5193 ],\n",
              "       [331.19168],\n",
              "       [328.99875],\n",
              "       [328.5589 ],\n",
              "       [329.2571 ],\n",
              "       [329.54147],\n",
              "       [328.94727],\n",
              "       [328.1903 ],\n",
              "       [321.4062 ],\n",
              "       [315.93994],\n",
              "       [309.6738 ],\n",
              "       [304.27188],\n",
              "       [303.17722],\n",
              "       [301.6936 ],\n",
              "       [297.21692],\n",
              "       [295.6713 ],\n",
              "       [297.05444],\n",
              "       [293.19327],\n",
              "       [287.40326],\n",
              "       [288.70703],\n",
              "       [287.43848],\n",
              "       [284.60242],\n",
              "       [281.64188],\n",
              "       [280.84708],\n",
              "       [283.55032],\n",
              "       [286.13168],\n",
              "       [290.74756],\n",
              "       [297.93182],\n",
              "       [302.41434],\n",
              "       [303.5638 ],\n",
              "       [302.66736],\n",
              "       [301.58508],\n",
              "       [301.02896],\n",
              "       [300.05862],\n",
              "       [300.02725],\n",
              "       [301.3706 ],\n",
              "       [299.78067],\n",
              "       [297.98123],\n",
              "       [293.61127],\n",
              "       [285.6241 ],\n",
              "       [274.23746],\n",
              "       [267.57632],\n",
              "       [264.53235],\n",
              "       [263.21667],\n",
              "       [264.56595],\n",
              "       [263.77777],\n",
              "       [264.15234],\n",
              "       [263.93997],\n",
              "       [264.88403],\n",
              "       [268.19946],\n",
              "       [267.9444 ],\n",
              "       [265.5854 ],\n",
              "       [261.18542],\n",
              "       [258.29034],\n",
              "       [254.9643 ],\n",
              "       [251.69943],\n",
              "       [252.48215],\n",
              "       [251.3425 ],\n",
              "       [252.68903],\n",
              "       [254.27356],\n",
              "       [256.3086 ],\n",
              "       [257.13156],\n",
              "       [258.47552],\n",
              "       [260.7304 ],\n",
              "       [263.19498],\n",
              "       [261.74292],\n",
              "       [259.68866],\n",
              "       [257.95667],\n",
              "       [255.06683],\n",
              "       [253.18814],\n",
              "       [251.7176 ],\n",
              "       [251.45523],\n",
              "       [251.81108],\n",
              "       [250.5965 ],\n",
              "       [248.24628],\n",
              "       [249.39404],\n",
              "       [252.41145],\n",
              "       [256.50092],\n",
              "       [260.35358],\n",
              "       [261.83542],\n",
              "       [258.47357],\n",
              "       [254.94984],\n",
              "       [255.62204],\n",
              "       [257.3995 ],\n",
              "       [258.6107 ],\n",
              "       [259.7467 ],\n",
              "       [260.60608],\n",
              "       [262.86685],\n",
              "       [262.82483],\n",
              "       [263.76508],\n",
              "       [267.02438],\n",
              "       [268.76093],\n",
              "       [268.97205],\n",
              "       [265.5057 ],\n",
              "       [261.1797 ],\n",
              "       [258.65094],\n",
              "       [256.8913 ],\n",
              "       [252.14807],\n",
              "       [248.18561],\n",
              "       [246.0015 ],\n",
              "       [241.81807],\n",
              "       [236.61534],\n",
              "       [233.68417],\n",
              "       [229.59619],\n",
              "       [227.30644],\n",
              "       [227.22922],\n",
              "       [227.05707],\n",
              "       [222.98183],\n",
              "       [216.96423],\n",
              "       [209.72859],\n",
              "       [202.43942]], dtype=float32)"
            ]
          },
          "metadata": {
            "tags": []
          },
          "execution_count": 22
        }
      ]
    },
    {
      "cell_type": "code",
      "metadata": {
        "colab": {
          "base_uri": "https://localhost:8080/"
        },
        "id": "Nx9oS-82gvND",
        "outputId": "69686ba2-1a1d-4d96-857d-2425095a7047"
      },
      "source": [
        "### Calculate RMSE performance metrics\n",
        "import math\n",
        "from sklearn.metrics import mean_squared_error\n",
        "math.sqrt(mean_squared_error(ytest,test_predict))\n"
      ],
      "execution_count": 39,
      "outputs": [
        {
          "output_type": "execute_result",
          "data": {
            "text/plain": [
              "187.6771452587279"
            ]
          },
          "metadata": {
            "tags": []
          },
          "execution_count": 39
        }
      ]
    },
    {
      "cell_type": "code",
      "metadata": {
        "colab": {
          "base_uri": "https://localhost:8080/",
          "height": 489
        },
        "id": "rHnoWtiG_xlQ",
        "outputId": "41e68ea8-5b33-446f-980f-6f8b4d555b25"
      },
      "source": [
        "### Plotting \n",
        "# shift train predictions for plotting\n",
        "look_back=5\n",
        "trainPredictPlot = numpy.empty_like(df1)\n",
        "trainPredictPlot[:, :] = np.nan\n",
        "trainPredictPlot[look_back:len(train_predict)+look_back, :] = train_predict\n",
        "# shift test predictions for plotting\n",
        "testPredictPlot = numpy.empty_like(df1)\n",
        "testPredictPlot[:, :] = numpy.nan\n",
        "testPredictPlot[len(train_predict)+(look_back*2)+1:len(df1)-1, :] = test_predict\n",
        "\n",
        "# plot baseline and predictions\n",
        "plt.figure(figsize=(12,5), dpi=100)\n",
        "plt.grid(color='#999999',linewidth=2)\n",
        "ax=plt.axes()\n",
        "ax.set_facecolor(\"#DCDCDC\")\n",
        "ax.spines[\"top\"].set_visible(False)\n",
        "ax.spines[\"right\"].set_visible(False)\n",
        "ax.spines[\"left\"].set_visible(False)\n",
        "ax.spines[\"bottom\"].set_visible(False)\n",
        "plt.plot(scaler.inverse_transform(df1),color = 'blue',label='Actual Stock Price',linewidth=3)\n",
        "plt.plot(trainPredictPlot,label='training',linewidth=3)\n",
        "plt.plot(testPredictPlot,color = 'orange',label='Predicted Stock Price',linewidth=3)\n",
        "plt.xlabel(\"Number of Days\")\n",
        "plt.ylabel(\"Actual Stock Price\")\n",
        "plt.legend(loc='upper left', fontsize=8)\n",
        "plt.show()"
      ],
      "execution_count": null,
      "outputs": [
        {
          "output_type": "stream",
          "text": [
            "/usr/local/lib/python3.7/dist-packages/ipykernel_launcher.py:15: MatplotlibDeprecationWarning: Adding an axes using the same arguments as a previous axes currently reuses the earlier instance.  In a future version, a new instance will always be created and returned.  Meanwhile, this warning can be suppressed, and the future behavior ensured, by passing a unique label to each axes instance.\n",
            "  from ipykernel import kernelapp as app\n"
          ],
          "name": "stderr"
        },
        {
          "output_type": "display_data",
          "data": {
            "image/png": "[encoded data removed]",
            "text/plain": [
              "<Figure size 1200x500 with 1 Axes>"
            ]
          },
          "metadata": {
            "tags": [],
            "needs_background": "light"
          }
        }
      ]
    },
    {
      "cell_type": "code",
      "metadata": {
        "colab": {
          "base_uri": "https://localhost:8080/"
        },
        "id": "S-fDW67SJkTz",
        "outputId": "374b454d-9783-4a66-a797-274bdde37276"
      },
      "source": [
        "#Evaluation metrics\n",
        "rmse=math.sqrt(mean_squared_error(ytest,test_predict))\n",
        "print('RMSE: '+str(rmse))\n",
        "mae = mean_absolute_error(ytest, test_predict)\n",
        "print('MAE: '+str(mae))\n",
        "mse = mean_squared_error(ytest,test_predict)\n",
        "print('MSE: '+str(mse))\n",
        "mape=np.mean(np.abs((ytest - test_predict) / ytest)) * 100\n",
        "#mape =(mae-np.mean(np.abs(ytest)))/np.mean(np.abs(ytest))*100\n",
        "print('MAPE: '+str(mape))\n",
        "x=np.mean(np.abs(ytest))\n",
        "print(x)"
      ],
      "execution_count": 50,
      "outputs": [
        {
          "output_type": "stream",
          "text": [
            "RMSE: 187.6771452587279\n",
            "MAE: 187.57253309525194\n",
            "MSE: 35222.71085246566\n",
            "MAPE: inf\n",
            "0.06727174483596593\n"
          ],
          "name": "stdout"
        },
        {
          "output_type": "stream",
          "text": [
            "/usr/local/lib/python3.7/dist-packages/ipykernel_launcher.py:8: RuntimeWarning: divide by zero encountered in true_divide\n",
            "  \n"
          ],
          "name": "stderr"
        }
      ]
    }
  ]
}